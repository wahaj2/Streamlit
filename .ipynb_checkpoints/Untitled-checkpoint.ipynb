{
 "cells": [
  {
   "cell_type": "code",
   "execution_count": 3,
   "id": "3ef263e9-eb12-411d-9d1a-9769c94b41b2",
   "metadata": {},
   "outputs": [
    {
     "name": "stderr",
     "output_type": "stream",
     "text": [
      "2025-03-05 14:55:54.143 \n",
      "  \u001b[33m\u001b[1mWarning:\u001b[0m to view this Streamlit app on a browser, run it with the following\n",
      "  command:\n",
      "\n",
      "    streamlit run C:\\Users\\Wahaj\\anaconda3\\Lib\\site-packages\\ipykernel_launcher.py [ARGUMENTS]\n"
     ]
    }
   ],
   "source": [
    "# app.py\n",
    "import streamlit as st\n",
    "import pandas as pd\n",
    "import plotly.express as px\n",
    "\n",
    "# Title of the app\n",
    "st.title(\"My First Streamlit App\")\n",
    "\n",
    "# User input\n",
    "st.write(\"## Enter a Number\")\n",
    "number = st.slider(\"Select a number\", 1, 100, 50)\n",
    "\n",
    "# Display the selected number\n",
    "st.write(f\"You selected: **{number}**\")\n",
    "\n",
    "# Create a line chart\n",
    "st.write(\"## Line Chart\")\n",
    "data = pd.DataFrame({\n",
    "    \"x\": range(number),\n",
    "    \"y\": [i ** 2 for i in range(number)]\n",
    "})\n",
    "fig = px.line(data, x=\"x\", y=\"y\", title=\"y = x^2\")\n",
    "st.plotly_chart(fig)\n",
    "\n",
    "# Add some text\n",
    "st.write(\"## About This App\")\n",
    "st.write(\"This is a simple Streamlit app hosted on Streamlit Sharing. It demonstrates how to create interactive web apps using Python!\")"
   ]
  },
  {
   "cell_type": "code",
   "execution_count": null,
   "id": "5fde5551-70bf-45eb-9432-f5095e806ba6",
   "metadata": {},
   "outputs": [],
   "source": []
  }
 ],
 "metadata": {
  "kernelspec": {
   "display_name": "Python [conda env:base] *",
   "language": "python",
   "name": "conda-base-py"
  },
  "language_info": {
   "codemirror_mode": {
    "name": "ipython",
    "version": 3
   },
   "file_extension": ".py",
   "mimetype": "text/x-python",
   "name": "python",
   "nbconvert_exporter": "python",
   "pygments_lexer": "ipython3",
   "version": "3.12.7"
  }
 },
 "nbformat": 4,
 "nbformat_minor": 5
}
